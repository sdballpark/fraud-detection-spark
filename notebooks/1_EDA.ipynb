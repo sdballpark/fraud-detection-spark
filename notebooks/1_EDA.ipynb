{
 "cells": [
  {
   "cell_type": "markdown",
   "id": "a55c5d20",
   "metadata": {},
   "source": [
    "# 📊 Exploratory Data Analysis - Fraud Detection"
   ]
  },
  {
   "cell_type": "code",
   "execution_count": null,
   "id": "7af813d4",
   "metadata": {},
   "outputs": [],
   "source": [
    "import pandas as pd\n",
    "import matplotlib.pyplot as plt\n",
    "import seaborn as sns\n",
    "\n",
    "# Load data\n",
    "df = pd.read_csv('../data/raw/fraud_data.csv')\n",
    "df.head()\n"
   ]
  },
  {
   "cell_type": "code",
   "execution_count": null,
   "id": "311fb3d4",
   "metadata": {},
   "outputs": [],
   "source": [
    "df['isFraud'].value_counts(normalize=True) * 100\n"
   ]
  },
  {
   "cell_type": "code",
   "execution_count": null,
   "id": "3b5c1c0b",
   "metadata": {},
   "outputs": [],
   "source": [
    "sns.countplot(x='isFraud', data=df)\n",
    "plt.title('Fraud Class Distribution')\n",
    "plt.show()\n"
   ]
  },
  {
   "cell_type": "code",
   "execution_count": null,
   "id": "e215d793",
   "metadata": {},
   "outputs": [],
   "source": [
    "df.describe()\n"
   ]
  },
  {
   "cell_type": "markdown",
   "id": "c2e0af12",
   "metadata": {},
   "source": [
    "✅ EDA complete. Ready for Modeling!"
   ]
  }
 ],
 "metadata": {},
 "nbformat": 4,
 "nbformat_minor": 5
}
