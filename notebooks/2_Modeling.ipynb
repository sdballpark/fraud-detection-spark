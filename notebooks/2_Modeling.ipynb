{
 "cells": [
  {
   "cell_type": "markdown",
   "id": "00540bd8",
   "metadata": {},
   "source": [
    "# 🤖 Fraud Detection - Modeling with PySpark"
   ]
  },
  {
   "cell_type": "code",
   "execution_count": null,
   "id": "9cd03bdd",
   "metadata": {},
   "outputs": [],
   "source": [
    "from pyspark.sql import SparkSession\n",
    "from pyspark.ml.feature import VectorAssembler, StringIndexer\n",
    "from pyspark.ml.classification import RandomForestClassifier\n",
    "from pyspark.ml.evaluation import BinaryClassificationEvaluator\n",
    "\n",
    "# Start Spark Session\n",
    "spark = SparkSession.builder.appName('FraudDetection').getOrCreate()\n",
    "\n",
    "# Load data\n",
    "df = spark.read.csv('../data/raw/fraud_data.csv', header=True, inferSchema=True)\n",
    "df.printSchema()\n"
   ]
  },
  {
   "cell_type": "code",
   "execution_count": null,
   "id": "bbbc2031",
   "metadata": {},
   "outputs": [],
   "source": [
    "# Feature Engineering\n",
    "indexer = StringIndexer(inputCol='transactionType', outputCol='transactionTypeIndex')\n",
    "df = indexer.fit(df).transform(df)\n",
    "\n",
    "feature_cols = ['amount', 'oldbalanceOrg', 'newbalanceOrig', 'transactionTypeIndex']\n",
    "assembler = VectorAssembler(inputCols=feature_cols, outputCol='features')\n",
    "df = assembler.transform(df)\n"
   ]
  },
  {
   "cell_type": "code",
   "execution_count": null,
   "id": "1d8ef887",
   "metadata": {},
   "outputs": [],
   "source": [
    "# Train/Test split\n",
    "train, test = df.randomSplit([0.7, 0.3], seed=42)\n",
    "\n",
    "# Model Training\n",
    "rf = RandomForestClassifier(labelCol='isFraud', featuresCol='features', numTrees=100)\n",
    "model = rf.fit(train)\n"
   ]
  },
  {
   "cell_type": "code",
   "execution_count": null,
   "id": "a64103cf",
   "metadata": {},
   "outputs": [],
   "source": [
    "# Evaluate\n",
    "predictions = model.transform(test)\n",
    "\n",
    "evaluator = BinaryClassificationEvaluator(labelCol='isFraud')\n",
    "auc = evaluator.evaluate(predictions)\n",
    "print(f'AUC: {auc:.4f}')\n"
   ]
  },
  {
   "cell_type": "markdown",
   "id": "ef20c8c4",
   "metadata": {},
   "source": [
    "✅ Model training complete! Save model if needed or deploy with Streamlit!"
   ]
  }
 ],
 "metadata": {},
 "nbformat": 4,
 "nbformat_minor": 5
}
